{
 "cells": [
  {
   "cell_type": "code",
   "execution_count": null,
   "metadata": {
    "collapsed": true
   },
   "outputs": [],
   "source": [
    "import numpy as np\n",
    "import cv2\n",
    "import glob\n",
    "import matplotlib.pyplot as plt\n",
    "import importlib"
   ]
  },
  {
   "cell_type": "code",
   "execution_count": null,
   "metadata": {
    "collapsed": true
   },
   "outputs": [],
   "source": [
    "images = glob.glob('camera_cal/calibration*.jpg')\n",
    "\n",
    "# for fname in images :\n",
    "#     img = cv2.imread(fname)\n",
    "#     rgb = cv2.cvtColor(img, cv2.COLOR_BGR2RGB)\n",
    "#     plt.imshow(rgb)\n",
    "#     plt.title(fname)\n",
    "#     plt.show()\n"
   ]
  },
  {
   "cell_type": "code",
   "execution_count": null,
   "metadata": {},
   "outputs": [],
   "source": [
    "np.uint8"
   ]
  },
  {
   "cell_type": "code",
   "execution_count": null,
   "metadata": {
    "collapsed": true
   },
   "outputs": [],
   "source": [
    "import laneutils\n",
    "importlib.reload(laneutils)\n",
    "from laneutils import *"
   ]
  },
  {
   "cell_type": "code",
   "execution_count": null,
   "metadata": {
    "scrolled": false
   },
   "outputs": [],
   "source": [
    "# fname = \"test_images/straight_lines1.jpg\"\n",
    "fname = \"test_images/test5.jpg\"\n",
    "img = cv2.imread(fname)\n",
    "print(img.shape)\n",
    "rgb = cv2.cvtColor(img, cv2.COLOR_BGR2RGB)\n",
    "dst = processImage(rgb)\n",
    "f, (ax1, ax2) = plt.subplots(1, 2, figsize=(20,5))\n",
    "ax1.imshow(dst)\n",
    "ax1.set_title(fname)\n",
    "plt.show()\n",
    "\n"
   ]
  },
  {
   "cell_type": "code",
   "execution_count": null,
   "metadata": {},
   "outputs": [],
   "source": [
    "# print(left_fitx[0])\n",
    "# print(right_fitx[0])\n",
    "# fname = \"test_images/straight_lines2.jpg\"\n",
    "fname = \"test_images/test5.jpg\"\n",
    "img = cv2.imread(fname)\n",
    "print(img.shape)\n",
    "rgb = cv2.cvtColor(img, cv2.COLOR_BGR2RGB)\n",
    "dst = processImageSeq(rgb)\n",
    "plt.imshow(dst)\n",
    "plt.title(fname)\n",
    "plt.show()\n"
   ]
  },
  {
   "cell_type": "code",
   "execution_count": null,
   "metadata": {
    "scrolled": false
   },
   "outputs": [],
   "source": [
    "from moviepy.editor import VideoFileClip\n",
    "\n",
    "outputname = 'output_images/project_video_processed.mp4'\n",
    "clip1 = VideoFileClip(\"project_video.mp4\")\n",
    "resetLaneFinder()\n",
    "outclip = clip1.fl_image(processImageSeq)\n",
    "outclip.write_videofile(outputname, audio=False)\n",
    "\n"
   ]
  }
 ],
 "metadata": {
  "kernelspec": {
   "display_name": "Python 3",
   "language": "python",
   "name": "python3"
  },
  "language_info": {
   "codemirror_mode": {
    "name": "ipython",
    "version": 3
   },
   "file_extension": ".py",
   "mimetype": "text/x-python",
   "name": "python",
   "nbconvert_exporter": "python",
   "pygments_lexer": "ipython3",
   "version": "3.5.2"
  },
  "widgets": {
   "state": {},
   "version": "1.1.2"
  }
 },
 "nbformat": 4,
 "nbformat_minor": 2
}
